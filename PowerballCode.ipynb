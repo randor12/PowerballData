{
 "cells": [
  {
   "cell_type": "markdown",
   "metadata": {},
   "source": [
    "# Powerball Code \n",
    "\n",
    "Look at the former winning numbers of the powerball in order to attempt to find bias towards specific numbers being selected \n",
    "to make predictions as to what the powerball number could be with higher probability"
   ]
  },
  {
   "cell_type": "code",
   "execution_count": 1,
   "metadata": {
    "ExecuteTime": {
     "end_time": "2022-01-03T01:05:34.857661Z",
     "start_time": "2022-01-03T01:05:34.471862Z"
    }
   },
   "outputs": [],
   "source": [
    "import numpy as np\n",
    "import pandas as pd\n",
    "import matplotlib.pyplot as plt"
   ]
  },
  {
   "cell_type": "code",
   "execution_count": 2,
   "metadata": {
    "ExecuteTime": {
     "end_time": "2022-01-03T01:05:35.049611Z",
     "start_time": "2022-01-03T01:05:34.998233Z"
    }
   },
   "outputs": [
    {
     "data": {
      "text/plain": [
       "<bound method NDFrame.head of       Game Name  Month  Day  Year  Num1  Num2  Num3  Num4  Num5  Powerball  \\\n",
       "0     Powerball      2    3  2010    37    52    22    36    17         24   \n",
       "1     Powerball      2    6  2010    22    54    52    14    59          4   \n",
       "2     Powerball      2   10  2010    29     8    37    38     5         34   \n",
       "3     Powerball      2   13  2010    14    10    40    51    30          1   \n",
       "4     Powerball      2   17  2010    36     7    26     8    19         15   \n",
       "...         ...    ...  ...   ...   ...   ...   ...   ...   ...        ...   \n",
       "1258  Powerball     12   22  2021    16    68    48     7    19         15   \n",
       "1259  Powerball     12   25  2021    29    45    58    55    27          2   \n",
       "1260  Powerball     12   27  2021    62    45    36    64    38         19   \n",
       "1261  Powerball     12   29  2021    39     6     9    33     2         11   \n",
       "1262  Powerball      1    1  2022    39    48    12    50     6          7   \n",
       "\n",
       "      PowerPlay  \n",
       "0           2.0  \n",
       "1           3.0  \n",
       "2           5.0  \n",
       "3           4.0  \n",
       "4           3.0  \n",
       "...         ...  \n",
       "1258        2.0  \n",
       "1259        3.0  \n",
       "1260        2.0  \n",
       "1261        2.0  \n",
       "1262        2.0  \n",
       "\n",
       "[1263 rows x 11 columns]>"
      ]
     },
     "execution_count": 2,
     "metadata": {},
     "output_type": "execute_result"
    }
   ],
   "source": [
    "df = pd.read_csv('powerball.csv')\n",
    "df.head"
   ]
  },
  {
   "cell_type": "code",
   "execution_count": 3,
   "metadata": {
    "ExecuteTime": {
     "end_time": "2022-01-03T01:05:56.520742Z",
     "start_time": "2022-01-03T01:05:56.509693Z"
    }
   },
   "outputs": [
    {
     "data": {
      "text/html": [
       "<div>\n",
       "<style scoped>\n",
       "    .dataframe tbody tr th:only-of-type {\n",
       "        vertical-align: middle;\n",
       "    }\n",
       "\n",
       "    .dataframe tbody tr th {\n",
       "        vertical-align: top;\n",
       "    }\n",
       "\n",
       "    .dataframe thead th {\n",
       "        text-align: right;\n",
       "    }\n",
       "</style>\n",
       "<table border=\"1\" class=\"dataframe\">\n",
       "  <thead>\n",
       "    <tr style=\"text-align: right;\">\n",
       "      <th></th>\n",
       "      <th>Num1</th>\n",
       "      <th>Num2</th>\n",
       "      <th>Num3</th>\n",
       "      <th>Num4</th>\n",
       "      <th>Num5</th>\n",
       "      <th>Powerball</th>\n",
       "    </tr>\n",
       "  </thead>\n",
       "  <tbody>\n",
       "    <tr>\n",
       "      <th>0</th>\n",
       "      <td>37</td>\n",
       "      <td>52</td>\n",
       "      <td>22</td>\n",
       "      <td>36</td>\n",
       "      <td>17</td>\n",
       "      <td>24</td>\n",
       "    </tr>\n",
       "    <tr>\n",
       "      <th>1</th>\n",
       "      <td>22</td>\n",
       "      <td>54</td>\n",
       "      <td>52</td>\n",
       "      <td>14</td>\n",
       "      <td>59</td>\n",
       "      <td>4</td>\n",
       "    </tr>\n",
       "    <tr>\n",
       "      <th>2</th>\n",
       "      <td>29</td>\n",
       "      <td>8</td>\n",
       "      <td>37</td>\n",
       "      <td>38</td>\n",
       "      <td>5</td>\n",
       "      <td>34</td>\n",
       "    </tr>\n",
       "    <tr>\n",
       "      <th>3</th>\n",
       "      <td>14</td>\n",
       "      <td>10</td>\n",
       "      <td>40</td>\n",
       "      <td>51</td>\n",
       "      <td>30</td>\n",
       "      <td>1</td>\n",
       "    </tr>\n",
       "    <tr>\n",
       "      <th>4</th>\n",
       "      <td>36</td>\n",
       "      <td>7</td>\n",
       "      <td>26</td>\n",
       "      <td>8</td>\n",
       "      <td>19</td>\n",
       "      <td>15</td>\n",
       "    </tr>\n",
       "    <tr>\n",
       "      <th>...</th>\n",
       "      <td>...</td>\n",
       "      <td>...</td>\n",
       "      <td>...</td>\n",
       "      <td>...</td>\n",
       "      <td>...</td>\n",
       "      <td>...</td>\n",
       "    </tr>\n",
       "    <tr>\n",
       "      <th>1258</th>\n",
       "      <td>16</td>\n",
       "      <td>68</td>\n",
       "      <td>48</td>\n",
       "      <td>7</td>\n",
       "      <td>19</td>\n",
       "      <td>15</td>\n",
       "    </tr>\n",
       "    <tr>\n",
       "      <th>1259</th>\n",
       "      <td>29</td>\n",
       "      <td>45</td>\n",
       "      <td>58</td>\n",
       "      <td>55</td>\n",
       "      <td>27</td>\n",
       "      <td>2</td>\n",
       "    </tr>\n",
       "    <tr>\n",
       "      <th>1260</th>\n",
       "      <td>62</td>\n",
       "      <td>45</td>\n",
       "      <td>36</td>\n",
       "      <td>64</td>\n",
       "      <td>38</td>\n",
       "      <td>19</td>\n",
       "    </tr>\n",
       "    <tr>\n",
       "      <th>1261</th>\n",
       "      <td>39</td>\n",
       "      <td>6</td>\n",
       "      <td>9</td>\n",
       "      <td>33</td>\n",
       "      <td>2</td>\n",
       "      <td>11</td>\n",
       "    </tr>\n",
       "    <tr>\n",
       "      <th>1262</th>\n",
       "      <td>39</td>\n",
       "      <td>48</td>\n",
       "      <td>12</td>\n",
       "      <td>50</td>\n",
       "      <td>6</td>\n",
       "      <td>7</td>\n",
       "    </tr>\n",
       "  </tbody>\n",
       "</table>\n",
       "<p>1263 rows × 6 columns</p>\n",
       "</div>"
      ],
      "text/plain": [
       "      Num1  Num2  Num3  Num4  Num5  Powerball\n",
       "0       37    52    22    36    17         24\n",
       "1       22    54    52    14    59          4\n",
       "2       29     8    37    38     5         34\n",
       "3       14    10    40    51    30          1\n",
       "4       36     7    26     8    19         15\n",
       "...    ...   ...   ...   ...   ...        ...\n",
       "1258    16    68    48     7    19         15\n",
       "1259    29    45    58    55    27          2\n",
       "1260    62    45    36    64    38         19\n",
       "1261    39     6     9    33     2         11\n",
       "1262    39    48    12    50     6          7\n",
       "\n",
       "[1263 rows x 6 columns]"
      ]
     },
     "execution_count": 3,
     "metadata": {},
     "output_type": "execute_result"
    }
   ],
   "source": [
    "df_data = df.iloc[:, 4:-1]\n",
    "df_data"
   ]
  },
  {
   "cell_type": "code",
   "execution_count": 4,
   "metadata": {
    "ExecuteTime": {
     "end_time": "2022-01-03T01:06:21.898677Z",
     "start_time": "2022-01-03T01:06:21.886124Z"
    }
   },
   "outputs": [
    {
     "data": {
      "text/plain": [
       "33.006334125098974"
      ]
     },
     "execution_count": 4,
     "metadata": {},
     "output_type": "execute_result"
    }
   ],
   "source": [
    "df_data.Num1.mean()"
   ]
  },
  {
   "cell_type": "code",
   "execution_count": 5,
   "metadata": {
    "ExecuteTime": {
     "end_time": "2022-01-03T01:06:29.284508Z",
     "start_time": "2022-01-03T01:06:29.274497Z"
    }
   },
   "outputs": [
    {
     "data": {
      "text/plain": [
       "32.07205067300079"
      ]
     },
     "execution_count": 5,
     "metadata": {},
     "output_type": "execute_result"
    }
   ],
   "source": [
    "df_data.Num2.mean()"
   ]
  },
  {
   "cell_type": "code",
   "execution_count": 6,
   "metadata": {
    "ExecuteTime": {
     "end_time": "2022-01-03T01:06:36.654678Z",
     "start_time": "2022-01-03T01:06:36.649389Z"
    }
   },
   "outputs": [
    {
     "data": {
      "text/plain": [
       "32.78939034045922"
      ]
     },
     "execution_count": 6,
     "metadata": {},
     "output_type": "execute_result"
    }
   ],
   "source": [
    "df_data.Num3.mean()"
   ]
  },
  {
   "cell_type": "code",
   "execution_count": 7,
   "metadata": {
    "ExecuteTime": {
     "end_time": "2022-01-03T01:06:42.451359Z",
     "start_time": "2022-01-03T01:06:42.441605Z"
    }
   },
   "outputs": [
    {
     "data": {
      "text/plain": [
       "33.17022961203484"
      ]
     },
     "execution_count": 7,
     "metadata": {},
     "output_type": "execute_result"
    }
   ],
   "source": [
    "df_data.Num4.mean()"
   ]
  },
  {
   "cell_type": "code",
   "execution_count": 8,
   "metadata": {
    "ExecuteTime": {
     "end_time": "2022-01-03T01:06:47.984071Z",
     "start_time": "2022-01-03T01:06:47.980238Z"
    }
   },
   "outputs": [
    {
     "data": {
      "text/plain": [
       "33.05779889152811"
      ]
     },
     "execution_count": 8,
     "metadata": {},
     "output_type": "execute_result"
    }
   ],
   "source": [
    "df_data.Num5.mean()"
   ]
  },
  {
   "cell_type": "code",
   "execution_count": 9,
   "metadata": {
    "ExecuteTime": {
     "end_time": "2022-01-03T01:06:59.812535Z",
     "start_time": "2022-01-03T01:06:59.808314Z"
    }
   },
   "outputs": [
    {
     "data": {
      "text/plain": [
       "16.098178939034046"
      ]
     },
     "execution_count": 9,
     "metadata": {},
     "output_type": "execute_result"
    }
   ],
   "source": [
    "df_data.Powerball.mean()"
   ]
  },
  {
   "cell_type": "code",
   "execution_count": 11,
   "metadata": {
    "ExecuteTime": {
     "end_time": "2022-01-03T01:07:18.971862Z",
     "start_time": "2022-01-03T01:07:18.577861Z"
    }
   },
   "outputs": [
    {
     "data": {
      "text/plain": [
       "array([[<AxesSubplot:title={'center':'Num1'}>,\n",
       "        <AxesSubplot:title={'center':'Num2'}>],\n",
       "       [<AxesSubplot:title={'center':'Num3'}>,\n",
       "        <AxesSubplot:title={'center':'Num4'}>],\n",
       "       [<AxesSubplot:title={'center':'Num5'}>,\n",
       "        <AxesSubplot:title={'center':'Powerball'}>]], dtype=object)"
      ]
     },
     "execution_count": 11,
     "metadata": {},
     "output_type": "execute_result"
    },
    {
     "data": {
      "image/png": "[encoded data removed]",
      "text/plain": [
       "<Figure size 432x288 with 6 Axes>"
      ]
     },
     "metadata": {
      "needs_background": "light"
     },
     "output_type": "display_data"
    }
   ],
   "source": [
    "df_data.hist()"
   ]
  },
  {
   "cell_type": "code",
   "execution_count": 12,
   "metadata": {
    "ExecuteTime": {
     "end_time": "2022-01-03T01:09:21.032721Z",
     "start_time": "2022-01-03T01:09:21.021719Z"
    }
   },
   "outputs": [
    {
     "data": {
      "text/plain": [
       "69"
      ]
     },
     "execution_count": 12,
     "metadata": {},
     "output_type": "execute_result"
    }
   ],
   "source": [
    "df.Num1.max()"
   ]
  },
  {
   "cell_type": "code",
   "execution_count": 13,
   "metadata": {
    "ExecuteTime": {
     "end_time": "2022-01-03T01:09:24.901217Z",
     "start_time": "2022-01-03T01:09:24.897797Z"
    }
   },
   "outputs": [
    {
     "data": {
      "text/plain": [
       "1"
      ]
     },
     "execution_count": 13,
     "metadata": {},
     "output_type": "execute_result"
    }
   ],
   "source": [
    "df.Num1.min()"
   ]
  },
  {
   "cell_type": "code",
   "execution_count": 14,
   "metadata": {
    "ExecuteTime": {
     "end_time": "2022-01-03T01:09:43.156310Z",
     "start_time": "2022-01-03T01:09:43.148471Z"
    }
   },
   "outputs": [
    {
     "data": {
      "text/plain": [
       "39"
      ]
     },
     "execution_count": 14,
     "metadata": {},
     "output_type": "execute_result"
    }
   ],
   "source": [
    "df.Powerball.max()"
   ]
  },
  {
   "cell_type": "code",
   "execution_count": 15,
   "metadata": {
    "ExecuteTime": {
     "end_time": "2022-01-03T01:09:47.102015Z",
     "start_time": "2022-01-03T01:09:47.097124Z"
    }
   },
   "outputs": [
    {
     "data": {
      "text/plain": [
       "1"
      ]
     },
     "execution_count": 15,
     "metadata": {},
     "output_type": "execute_result"
    }
   ],
   "source": [
    "df.Powerball.min()"
   ]
  },
  {
   "cell_type": "code",
   "execution_count": 17,
   "metadata": {
    "ExecuteTime": {
     "end_time": "2022-01-03T01:12:07.306004Z",
     "start_time": "2022-01-03T01:12:07.301717Z"
    }
   },
   "outputs": [
    {
     "data": {
      "text/plain": [
       "10.0"
      ]
     },
     "execution_count": 17,
     "metadata": {},
     "output_type": "execute_result"
    }
   ],
   "source": [
    "df.PowerPlay.max()"
   ]
  },
  {
   "cell_type": "code",
   "execution_count": 18,
   "metadata": {
    "ExecuteTime": {
     "end_time": "2022-01-03T01:12:11.271470Z",
     "start_time": "2022-01-03T01:12:11.263280Z"
    }
   },
   "outputs": [
    {
     "data": {
      "text/plain": [
       "2.0"
      ]
     },
     "execution_count": 18,
     "metadata": {},
     "output_type": "execute_result"
    }
   ],
   "source": [
    "df.PowerPlay.min()"
   ]
  },
  {
   "cell_type": "code",
   "execution_count": 19,
   "metadata": {
    "ExecuteTime": {
     "end_time": "2022-01-03T01:12:15.003379Z",
     "start_time": "2022-01-03T01:12:14.998812Z"
    }
   },
   "outputs": [
    {
     "data": {
      "text/plain": [
       "2.8471035137701803"
      ]
     },
     "execution_count": 19,
     "metadata": {},
     "output_type": "execute_result"
    }
   ],
   "source": [
    "df.PowerPlay.mean()"
   ]
  },
  {
   "cell_type": "code",
   "execution_count": 20,
   "metadata": {
    "ExecuteTime": {
     "end_time": "2022-01-03T01:12:18.970977Z",
     "start_time": "2022-01-03T01:12:18.845907Z"
    }
   },
   "outputs": [
    {
     "data": {
      "text/plain": [
       "<AxesSubplot:>"
      ]
     },
     "execution_count": 20,
     "metadata": {},
     "output_type": "execute_result"
    },
    {
     "data": {
      "image/png": "[encoded data removed]",
      "text/plain": [
       "<Figure size 432x288 with 1 Axes>"
      ]
     },
     "metadata": {
      "needs_background": "light"
     },
     "output_type": "display_data"
    }
   ],
   "source": [
    "df.PowerPlay.hist()"
   ]
  },
  {
   "cell_type": "code",
   "execution_count": 21,
   "metadata": {
    "ExecuteTime": {
     "end_time": "2022-01-03T01:12:29.082668Z",
     "start_time": "2022-01-03T01:12:29.071132Z"
    }
   },
   "outputs": [
    {
     "data": {
      "text/plain": [
       "0       2.0\n",
       "1       3.0\n",
       "2       5.0\n",
       "3       4.0\n",
       "4       3.0\n",
       "       ... \n",
       "1258    2.0\n",
       "1259    3.0\n",
       "1260    2.0\n",
       "1261    2.0\n",
       "1262    2.0\n",
       "Name: PowerPlay, Length: 1263, dtype: float64"
      ]
     },
     "execution_count": 21,
     "metadata": {},
     "output_type": "execute_result"
    }
   ],
   "source": [
    "df.PowerPlay"
   ]
  },
  {
   "cell_type": "code",
   "execution_count": 22,
   "metadata": {
    "ExecuteTime": {
     "end_time": "2022-01-03T01:12:56.869684Z",
     "start_time": "2022-01-03T01:12:56.720863Z"
    }
   },
   "outputs": [
    {
     "data": {
      "text/plain": [
       "<AxesSubplot:>"
      ]
     },
     "execution_count": 22,
     "metadata": {},
     "output_type": "execute_result"
    },
    {
     "data": {
      "image/png": "[encoded data removed]",
      "text/plain": [
       "<Figure size 432x288 with 1 Axes>"
      ]
     },
     "metadata": {
      "needs_background": "light"
     },
     "output_type": "display_data"
    }
   ],
   "source": [
    "df.Powerball.hist()"
   ]
  },
  {
   "cell_type": "code",
   "execution_count": 23,
   "metadata": {
    "ExecuteTime": {
     "end_time": "2022-01-03T01:13:47.358170Z",
     "start_time": "2022-01-03T01:13:47.348705Z"
    }
   },
   "outputs": [
    {
     "data": {
      "text/plain": [
       "0.8630245447347585"
      ]
     },
     "execution_count": 23,
     "metadata": {},
     "output_type": "execute_result"
    }
   ],
   "source": [
    "size = len(df.Powerball.loc[df.Powerball <= 26])\n",
    "size / len(df.Powerball)"
   ]
  },
  {
   "cell_type": "code",
   "execution_count": 24,
   "metadata": {
    "ExecuteTime": {
     "end_time": "2022-01-03T01:14:00.283486Z",
     "start_time": "2022-01-03T01:14:00.279690Z"
    }
   },
   "outputs": [
    {
     "data": {
      "text/plain": [
       "0.6842105263157895"
      ]
     },
     "execution_count": 24,
     "metadata": {},
     "output_type": "execute_result"
    }
   ],
   "source": [
    "26 / 38"
   ]
  },
  {
   "cell_type": "code",
   "execution_count": 25,
   "metadata": {
    "ExecuteTime": {
     "end_time": "2022-01-03T01:17:33.204342Z",
     "start_time": "2022-01-03T01:17:33.198977Z"
    }
   },
   "outputs": [
    {
     "data": {
      "text/plain": [
       "0    40\n",
       "dtype: int64"
      ]
     },
     "execution_count": 25,
     "metadata": {},
     "output_type": "execute_result"
    }
   ],
   "source": [
    "df.Num1.mode()"
   ]
  },
  {
   "cell_type": "code",
   "execution_count": 26,
   "metadata": {
    "ExecuteTime": {
     "end_time": "2022-01-03T01:17:38.613261Z",
     "start_time": "2022-01-03T01:17:38.604444Z"
    }
   },
   "outputs": [
    {
     "data": {
      "text/plain": [
       "0    52\n",
       "dtype: int64"
      ]
     },
     "execution_count": 26,
     "metadata": {},
     "output_type": "execute_result"
    }
   ],
   "source": [
    "df.Num2.mode()"
   ]
  },
  {
   "cell_type": "code",
   "execution_count": 27,
   "metadata": {
    "ExecuteTime": {
     "end_time": "2022-01-03T01:17:44.442756Z",
     "start_time": "2022-01-03T01:17:44.437914Z"
    }
   },
   "outputs": [
    {
     "data": {
      "text/plain": [
       "0    59\n",
       "dtype: int64"
      ]
     },
     "execution_count": 27,
     "metadata": {},
     "output_type": "execute_result"
    }
   ],
   "source": [
    "df.Num3.mode()"
   ]
  },
  {
   "cell_type": "code",
   "execution_count": 28,
   "metadata": {
    "ExecuteTime": {
     "end_time": "2022-01-03T01:17:49.872134Z",
     "start_time": "2022-01-03T01:17:49.867631Z"
    }
   },
   "outputs": [
    {
     "data": {
      "text/plain": [
       "0    23\n",
       "dtype: int64"
      ]
     },
     "execution_count": 28,
     "metadata": {},
     "output_type": "execute_result"
    }
   ],
   "source": [
    "df.Num4.mode()"
   ]
  },
  {
   "cell_type": "code",
   "execution_count": 29,
   "metadata": {
    "ExecuteTime": {
     "end_time": "2022-01-03T01:17:54.740429Z",
     "start_time": "2022-01-03T01:17:54.734319Z"
    }
   },
   "outputs": [
    {
     "data": {
      "text/plain": [
       "0    32\n",
       "dtype: int64"
      ]
     },
     "execution_count": 29,
     "metadata": {},
     "output_type": "execute_result"
    }
   ],
   "source": [
    "df.Num5.mode()"
   ]
  },
  {
   "cell_type": "code",
   "execution_count": 30,
   "metadata": {
    "ExecuteTime": {
     "end_time": "2022-01-03T01:17:59.992999Z",
     "start_time": "2022-01-03T01:17:59.987765Z"
    }
   },
   "outputs": [
    {
     "data": {
      "text/plain": [
       "0    24\n",
       "dtype: int64"
      ]
     },
     "execution_count": 30,
     "metadata": {},
     "output_type": "execute_result"
    }
   ],
   "source": [
    "df.Powerball.mode()"
   ]
  },
  {
   "cell_type": "code",
   "execution_count": 36,
   "metadata": {
    "ExecuteTime": {
     "end_time": "2022-01-03T01:19:31.584624Z",
     "start_time": "2022-01-03T01:19:31.572322Z"
    }
   },
   "outputs": [
    {
     "data": {
      "text/plain": [
       "Num1  Num2  Num3  Num4  Num5  Powerball\n",
       "1     8     19    10    20    23           1\n",
       "43    31    29    37    15    16           1\n",
       "      63    16    38    10    23           1\n",
       "      53    8     10    4     7            1\n",
       "      48    36    25    6     24           1\n",
       "                                          ..\n",
       "23    20    5     30    8     3            1\n",
       "      7     2     3     51    26           1\n",
       "      2     47    28    17    36           1\n",
       "22    56    2     45    32    12           1\n",
       "69    54    57    51    60    11           1\n",
       "Length: 1263, dtype: int64"
      ]
     },
     "execution_count": 36,
     "metadata": {},
     "output_type": "execute_result"
    }
   ],
   "source": [
    "df_data.value_counts()"
   ]
  },
  {
   "cell_type": "code",
   "execution_count": 33,
   "metadata": {
    "ExecuteTime": {
     "end_time": "2022-01-03T01:19:04.432523Z",
     "start_time": "2022-01-03T01:19:04.421212Z"
    }
   },
   "outputs": [
    {
     "data": {
      "text/plain": [
       "40    31\n",
       "32    30\n",
       "47    28\n",
       "7     28\n",
       "12    27\n",
       "      ..\n",
       "67    10\n",
       "69     8\n",
       "63     8\n",
       "68     7\n",
       "60     5\n",
       "Name: Num1, Length: 69, dtype: int64"
      ]
     },
     "execution_count": 33,
     "metadata": {},
     "output_type": "execute_result"
    }
   ],
   "source": [
    "df_data.Num1.value_counts()"
   ]
  },
  {
   "cell_type": "code",
   "execution_count": 34,
   "metadata": {
    "ExecuteTime": {
     "end_time": "2022-01-03T01:19:17.240919Z",
     "start_time": "2022-01-03T01:19:17.232662Z"
    }
   },
   "outputs": [
    {
     "data": {
      "text/plain": [
       "52    27\n",
       "53    26\n",
       "17    26\n",
       "28    26\n",
       "8     25\n",
       "      ..\n",
       "29    11\n",
       "64    10\n",
       "69    10\n",
       "65     9\n",
       "67     8\n",
       "Name: Num2, Length: 69, dtype: int64"
      ]
     },
     "execution_count": 34,
     "metadata": {},
     "output_type": "execute_result"
    }
   ],
   "source": [
    "df_data.Num2.value_counts()"
   ]
  },
  {
   "cell_type": "code",
   "execution_count": 37,
   "metadata": {
    "ExecuteTime": {
     "end_time": "2022-01-03T01:19:39.743739Z",
     "start_time": "2022-01-03T01:19:39.737791Z"
    }
   },
   "outputs": [
    {
     "data": {
      "text/plain": [
       "59    34\n",
       "21    31\n",
       "12    30\n",
       "42    27\n",
       "36    27\n",
       "      ..\n",
       "61     9\n",
       "65     8\n",
       "15     7\n",
       "60     7\n",
       "64     6\n",
       "Name: Num3, Length: 69, dtype: int64"
      ]
     },
     "execution_count": 37,
     "metadata": {},
     "output_type": "execute_result"
    }
   ],
   "source": [
    "df_data.Num3.value_counts()"
   ]
  },
  {
   "cell_type": "code",
   "execution_count": 38,
   "metadata": {
    "ExecuteTime": {
     "end_time": "2022-01-03T01:19:49.412455Z",
     "start_time": "2022-01-03T01:19:49.406858Z"
    }
   },
   "outputs": [
    {
     "data": {
      "text/plain": [
       "23    37\n",
       "59    29\n",
       "41    29\n",
       "27    26\n",
       "14    26\n",
       "      ..\n",
       "62    11\n",
       "66     7\n",
       "68     7\n",
       "65     6\n",
       "60     3\n",
       "Name: Num4, Length: 69, dtype: int64"
      ]
     },
     "execution_count": 38,
     "metadata": {},
     "output_type": "execute_result"
    }
   ],
   "source": [
    "df_data.Num4.value_counts()"
   ]
  },
  {
   "cell_type": "code",
   "execution_count": 39,
   "metadata": {
    "ExecuteTime": {
     "end_time": "2022-01-03T01:19:56.888721Z",
     "start_time": "2022-01-03T01:19:56.884173Z"
    }
   },
   "outputs": [
    {
     "data": {
      "text/plain": [
       "32    29\n",
       "11    28\n",
       "28    27\n",
       "39    27\n",
       "3     26\n",
       "      ..\n",
       "24    12\n",
       "62     9\n",
       "67     8\n",
       "66     8\n",
       "65     7\n",
       "Name: Num5, Length: 69, dtype: int64"
      ]
     },
     "execution_count": 39,
     "metadata": {},
     "output_type": "execute_result"
    }
   ],
   "source": [
    "df_data.Num5.value_counts()"
   ]
  },
  {
   "cell_type": "code",
   "execution_count": 40,
   "metadata": {
    "ExecuteTime": {
     "end_time": "2022-01-03T01:20:03.420978Z",
     "start_time": "2022-01-03T01:20:03.414609Z"
    }
   },
   "outputs": [
    {
     "data": {
      "text/plain": [
       "24    59\n",
       "18    52\n",
       "19    46\n",
       "8     45\n",
       "6     43\n",
       "25    43\n",
       "4     43\n",
       "5     43\n",
       "13    43\n",
       "20    43\n",
       "10    42\n",
       "3     42\n",
       "11    42\n",
       "1     42\n",
       "15    41\n",
       "21    41\n",
       "17    41\n",
       "14    40\n",
       "26    40\n",
       "7     39\n",
       "2     39\n",
       "23    37\n",
       "9     37\n",
       "16    36\n",
       "12    36\n",
       "22    35\n",
       "29    27\n",
       "33    22\n",
       "27    19\n",
       "32    16\n",
       "35    15\n",
       "30    15\n",
       "28    14\n",
       "34    13\n",
       "31    11\n",
       "36     7\n",
       "39     6\n",
       "38     5\n",
       "37     3\n",
       "Name: Powerball, dtype: int64"
      ]
     },
     "execution_count": 40,
     "metadata": {},
     "output_type": "execute_result"
    }
   ],
   "source": [
    "df_data.Powerball.value_counts()"
   ]
  },
  {
   "cell_type": "code",
   "execution_count": null,
   "metadata": {},
   "outputs": [],
   "source": []
  }
 ],
 "metadata": {
  "kernelspec": {
   "display_name": "Python 3",
   "language": "python",
   "name": "python3"
  },
  "language_info": {
   "codemirror_mode": {
    "name": "ipython",
    "version": 3
   },
   "file_extension": ".py",
   "mimetype": "text/x-python",
   "name": "python",
   "nbconvert_exporter": "python",
   "pygments_lexer": "ipython3",
   "version": "3.8.10"
  }
 },
 "nbformat": 4,
 "nbformat_minor": 4
}
